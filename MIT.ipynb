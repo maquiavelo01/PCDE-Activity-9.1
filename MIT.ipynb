{
 "cells": [
  {
   "attachments": {},
   "cell_type": "markdown",
   "metadata": {},
   "source": [
    "# The Massachusetts Institute of Technology (MIT)\n",
    "\n",
    "**Jose Antonio Morfin Guerrero maquiavelo01**\n",
    "\n",
    "The Massachusetts Institute of Technology (MIT) is a private university in Cambridge, Massachusetts. Established in 1861, MIT has since then been at the center of the development of modern technology and science. Since it was founded, MIT has been ranked among the top academic institutions in the world.\n",
    "\n",
    "The original MIT logo was created by Matthew Carter and it represents two figures symbolizing the fields of Science and Art. The image below displays the original logo.\n",
    "\n",
    "![](data:image/png;base64,iVBORw0KGgoAAAANSUhEUgAAASwAAACoCAMAAABt9SM9AAAAllBMVEX////CABjAAACAgIC9AADCABTDEiDgnqDhoqTUdHjuzM3EHir14eLtyMqLi4t9fX2lpaXGLjfBAAbBAA/36Oj79PTYgoXjqavckpXx1dbWeX3PXGHz29z68fH09PTSa2/JPkbnt7mYmJjMUVflsbPaio3LSlDqwcPINz/Vd3vFJzHSbHHel5rEGyfQX2TIO0JycnK1tbWg3QA+AAALOUlEQVR4nO2ci3biOBKG5RqJi7GnB8sXDPYSL+bSQGD3/V9uq0rGOAkJ4Uxm1p2p75zuOGVJWH+kkqySUEoQBEEQBEEQBEEQBEEQBEEQBEEQBEEQBEEQBEEQBEEQBEEQBEEQBEEQBEF4gFE0uAIXqw9da3gxd63R6GL1OlZzuFhPXfNtIHn3sRJoP3gL3Sd7nFxr/VCGIAjwwZIgiF/fGYG50hbq6661FatrheHFCrZjXV6si27Bt/mgDgl9FKzpcg4fJ71HgUU9lCHS2leq0nrz+s4IvCtXsbrWa8vSXWsrVmSu1ugqVuTd40OxPM+YPV0OjPkw6T0eFmtidI5igV29vtNfsezG6lKpWJuzaZImfphfum5RbYvmMq+2lx4T+2HRFpLztRPL9299TCdnElZ+K1ZBvd8u2htl38WCGUClVA2wBpf0oIkTSzXQAJr95hbo8rkiqc6cYsZFHLUGbSsSaxKSeYvGPf9AN0ZOsOKce8qpxnSpsbxq43n2abU6G/O8ws9a4w3Qm6LnYlUAY1QoAt+JtQQPntCToSsptcWqgdU1VtzQZUStASK8C0YPufYeUIpRgE+N9z2jsVE+WaoN5hmwY3Y5A7RjSqsN6pxp6vVoR820VTMqhvTqt1g6HtiIho8JVpeSanK8JV9jo5srFQ4q+hyg9gDUc3jcQ2fzREp4ephgq/uJue25JqW3L8XaWMhUUgNqVWs7TVQQGV0m8bOBKohHYDdxgGMallyuJ6rvYs1Bx4GGdaGvSRO+nmNNQudIpjY65N05yJbFOkQR9Ve/UJQ7IU9Enbor1sRE49zlOVuSTA2BatX1WewOWi/YX7Eg3wLU6LLCvBErGZ1Ac7YKWws6pBS9cwpeBHri/FQx22i89URjKDUktrnR8BS9FmvOOfdHrpiZPCOGnv/FaLi31A2f6r6L5SsN6TjSqvFZFfngqRsZyR9bdDlYqw26HfRkgA3tJ6XYGRILDOQvxBrDa7HUmXJaMAlNVLRj+kqsIOJEbs7Va7HO0W4fbbBHUFLyXGt0Ii5bPDpMsWVQHYrjcoAeKSXfbLIk525oudd1xDq8FeuSc0aFBmUcl0lZvplnhesFWI/H0l6LNQN+U3BioVNfK9X4L/7wGkzUXK4hWpASOFU6sliLiOsaDt+IVVH1WCx+YUsBn9k2nXZP3Q3FClgsmmfFLDn6tNHXiKW7nC7Wlb7PB++GNHXAFoDPVDRiHelPHUy4Gy5xdhQXCxutsC+hq893FpXE4W3G7uyJRkZsa0GI3bOAjliLyEzD7d6gWMlUr/zS3xs40l/F81WwAZp17I09zcoQPDurAxxO87iKPHoD+gqxgi7ty2cc3OfjloV1A88A/ZFdN0TXQRMmrWILNM+yOEXKNV3iP3wrz3hqBSwWvpu6eVYVNC2LHfyQSsQ5FIoVYll4acDi3WegOVcEC5YVZ1hFifMtWGZo05Toq3zWX0GC7Y4aAjfVzK0b1NQYhydNnWSG1dR6hVfJT5qp6wO10jHN2f1mlWFGduxdzaoD5qM+hsOBnrgCyzHnHFPOZMEzeB5TExxRsT3Txy1UseJi3GDbU7Fu033Bi/12dhX4l5lQ6Rfd5FX+toygm6TzS7ytwrepicK/dIFfSqz/NyLWA4hYDyBiPcAXiPWvF/zdFfg7+QKxfvtPhz8u1mV39vkn4g194gvE+v3Hby0/WrHGnSLM5O+r0F+JiPUAItYD9FSsZJSNirupsmz0JhD6GMPDuP586p6KFeML2ej928vVht5kIl79qzar2ZtqbTYfZG+JAOBNdPB9eiuWB9n7t/fASyY4zqJYI01RoJeswYWzP2arvQhO99Nd+DXFmvIyX0MG8PN1gtnnxLoRdf6IfotVrddb/7TbON1GTzBY4GUc7g0Mt7GardNYbVOwi9CntLSqma7TRG0PUbQMqaduFx687JH1auA9zWjFYjtDscKboepfUaxUw16DtbzQtANyMeimaoqDgt4qSz6LwqGgz2qu9ZyeEXRSOtuCQhicZ3cteUcWdHaFSihVpPffRaw1eLA/gWcsLXKaXTbc6ZXy588mOvws1IBCC+OVNef0qFKAlJ9RJ8nPjbWbdKRQ1iirNlF3c4+nl6lnaQWWck7TN4PDryuWnSoV8rLyImIvxoGFqaXlUicW+SxqUh2x2GeRCMZc0jVbOyjeQb2TV95VDdcAy3cQiwRwUegxtbJxnTRiFa1YI94TcUssitxXWVZv7CUuNmz2xtRgz99QrJlq9jcEmgJjoNPPi4VN0vB7PDQ7aygRXxWa+uH3FUvFYwrXeBSteiFW9q5YWzCTNZNWrVjrf4RYigISK0uBrhc+a+TmWa/FOrKHcotD22t1qfuRwFTM9xUrpNiYOkK04kkpOS8nFvqfjUooCLtxMcaEI9QHtIHhSHKq98WLcmPLN76tWLRpbbB8Qi0q2lrl0RTLiUUxaP0Ta+7Z6Jli2AlXK0I/NcRiVukUoH2AOQ0TG22sp76RWPwinWq9JrFAU6gVeE5KDnpLPjtX/B82MPyJkweeaz7hNW3Mbpz6gTPp3XWjQGMZ0HJF1tlu8AuLlWR1hj3Hz7Lc/ULGer5YDt2aTDA6jkpV1xn/Wh+H+NKSpItTrZq0SXYckpD++DxdbrtFF+vTauz8fZFlL27do6di9RMR6wFErAe4LVb4YhtV269FrFtivYOIJWJ9GhHrAUSsBxCxHkDEeoA+ivV8nbVUNxOsXWziDketD/dTPUIfxdpFdHjVo9O+t1/dPhcVHLq1+S+kj2JtnicT45nBfuKJWJ9Bexc9/M7SQFDVtJTAYhW1M5dlqZJtddlGEtRZ7bZit2LFaGp3meR+rMo4Vkkc04pF8+Nz9FgsWiR253uB9/ur8kyrVCZnsZa0l5/qSed8yc6B+HLDyad0oxErcaY9KxjSYYPlSusgxnwxO7bdO4/wlp6LFWsLg6lm55VAZOhoiM6P4GH9rWf37qHoVAmvoFISOqdiSYdGLA+upsIdabGeDmhpumqjkZ+j52KtIuqNuabjX3Mwg4AWkX0Sa+2vrDsN7NlFnA/4WyAwiZerYEonoBqxUjDWV8HO0nG7jbWrMjkAiXXkAAe08ddP0G+xEo5Y4d/fap9M5KW25LNo9wstzccczskve4y0W0+KOcTjxAJ3Oo4Sl3yukAvHH4W2OxXQf5+m32KFtMEDMR5k8fWkdDMatmLFHA9bqzYJtrPQidWa9ihaczJdcctS2KnpixAe2M/fb7G2TUgZ6R4rf0+sy2FqOoO5dWJd9FErdFGXXyLeAjEHKFLQD2y07LtY16wBdyTmbstCT+Q7sUoXdHWNLXFpm94YAmQ7+8ij9Vusxi2pnPyO5p0val6/K9YlqOq23TifhSJR8Mxn0fbo+RPlHDzmtHz29fP0Wyy1iezejyugcH2KdRzmqdbL4XtijejQeThCzdKLWFlrGrtNpJrnGSTWKbKevr8n+srtr4R6rwY3vxLq9x8dOmJd09rnh4RyH8VilRBZd3pX0bZb9vZALYu3NRgWy1zFUivMh+MB0ASsmWctGhM/Q8bTV3dknGLYj30BUjaZXvHuJPY6aSftRs0//t3hvxdruu8kPj/ySIx2eqiYj92e3ZHUlDz9MlE4Y2ex2Dvj/1jzoXavRyP+Hhm+HDa7mEcDHiDoMlGJjy9GjVjl9Z3qu5D4/nXaWNzvNWXxZnxrTW4vOPl/NjTbAIWbTKzZhzhfsNj7qgk6int96Z9MzmfsgfYqq5p+3l5cFJhkuNrvTiOaefmH8fid8/aCIAiCIAiCIAiCIAiCIAiCIAiCIAiCIAiCIAiCIAiCIAiCIAiCIAiCIAjCn+Z/mND1bsRplDMAAAAASUVORK5CYII=)"
   ]
  },
  {
   "cell_type": "markdown",
   "metadata": {},
   "source": []
  }
 ],
 "metadata": {
  "kernelspec": {
   "display_name": "Python 3",
   "language": "python",
   "name": "python3"
  },
  "language_info": {
   "codemirror_mode": {
    "name": "ipython",
    "version": 3
   },
   "file_extension": ".py",
   "mimetype": "text/x-python",
   "name": "python",
   "nbconvert_exporter": "python",
   "pygments_lexer": "ipython3",
   "version": "3.10.10"
  },
  "vscode": {
   "interpreter": {
    "hash": "9f1f2db30c7dce760865638d0611daf918af8ea9134fdbdf09dc10f999aa4a98"
   }
  }
 },
 "nbformat": 4,
 "nbformat_minor": 4
}
